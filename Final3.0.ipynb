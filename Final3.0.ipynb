{
 "cells": [
  {
   "cell_type": "code",
   "execution_count": 1,
   "metadata": {
    "executionInfo": {
     "elapsed": 1339,
     "status": "ok",
     "timestamp": 1636658053335,
     "user": {
      "displayName": "nasiem ayob",
      "photoUrl": "https://lh3.googleusercontent.com/a-/AOh14GhYsNLn4PyjrikyWulX3z0YxowYE_hrwXX7YWlg=s64",
      "userId": "17753770046204324955"
     },
     "user_tz": -120
    },
    "id": "E8lcO5yoZrUG",
    "scrolled": false
   },
   "outputs": [],
   "source": [
    "# sklearn\n",
    "from sklearn.metrics import recall_score, precision_score, f1_score, classification_report, accuracy_score, plot_confusion_matrix\n",
    "from sklearn.feature_extraction.text import CountVectorizer, TfidfVectorizer\n",
    "from sklearn.model_selection import train_test_split\n",
    "from sklearn.linear_model import LogisticRegression\n",
    "from sklearn.naive_bayes import MultinomialNB\n",
    "from sklearn.linear_model import SGDClassifier\n",
    "from sklearn import metrics\n",
    "\n",
    "# TensorFlow\n",
    "from tensorflow.python.keras.preprocessing.text import Tokenizer\n",
    "from tensorflow.python.keras.preprocessing import sequence\n",
    "import tensorflow as tf\n",
    "from tensorflow import keras\n",
    "from tensorflow.keras.models import load_model\n",
    "\n",
    "#GenSim\n",
    "from gensim.utils import simple_preprocess\n",
    "from gensim.scripts.glove2word2vec import glove2word2vec\n",
    "from gensim.models import Word2Vec, KeyedVectors\n",
    "\n",
    "\n",
    "#NLTK\n",
    "from nltk.tokenize import TweetTokenizer\n",
    "from nltk import word_tokenize, pos_tag\n",
    "from nltk.corpus import stopwords\n",
    "import matplotlib.pyplot as plt\n",
    "\n",
    "#Seaborn\n",
    "import seaborn as sns\n",
    "import os.path\n",
    "\n",
    "# spacy\n",
    "import spacy\n",
    "from spacy.tokenizer import Tokenizer\n",
    "from spacy.lang.en import English\n",
    "from spacy.symbols import ORTH\n",
    "\n",
    "#Standards\n",
    "import pandas as pd\n",
    "import collections\n",
    "import numpy as np\n",
    "import pickle\n",
    "import gensim\n",
    "import spacy\n",
    "import nltk\n",
    "import re"
   ]
  },
  {
   "cell_type": "markdown",
   "metadata": {
    "id": "r96NVd8_ZrUN"
   },
   "source": [
    "# Data Cleaning"
   ]
  },
  {
   "cell_type": "markdown",
   "metadata": {
    "id": "0cZtzDHJZrUP"
   },
   "source": [
    "**Neccessary data preprocessing steps:**\n",
    "* Remove punctuation\n",
    "* Convert text to lower case\n",
    "* Remove numerical values\n",
    "* Remove common non-sensical text (/n)\n",
    "* Tokenize text\n",
    "* Remove stop words\n",
    "* Lemmatization"
   ]
  },
  {
   "cell_type": "markdown",
   "metadata": {
    "id": "63gtWjmAZrUQ"
   },
   "source": [
    "### Load data"
   ]
  },
  {
   "cell_type": "code",
   "execution_count": 2,
   "metadata": {
    "id": "3cyZBaD9ZrUR"
   },
   "outputs": [],
   "source": [
    "tweets_df = pd.read_csv('data/train.csv')"
   ]
  },
  {
   "cell_type": "markdown",
   "metadata": {
    "id": "e4Xx81biZrUR"
   },
   "source": [
    "### Remove features"
   ]
  },
  {
   "cell_type": "code",
   "execution_count": 3,
   "metadata": {
    "id": "BGsxTffZZrUS"
   },
   "outputs": [
    {
     "data": {
      "text/html": [
       "<div>\n",
       "<style scoped>\n",
       "    .dataframe tbody tr th:only-of-type {\n",
       "        vertical-align: middle;\n",
       "    }\n",
       "\n",
       "    .dataframe tbody tr th {\n",
       "        vertical-align: top;\n",
       "    }\n",
       "\n",
       "    .dataframe thead th {\n",
       "        text-align: right;\n",
       "    }\n",
       "</style>\n",
       "<table border=\"1\" class=\"dataframe\">\n",
       "  <thead>\n",
       "    <tr style=\"text-align: right;\">\n",
       "      <th></th>\n",
       "      <th>text</th>\n",
       "      <th>target</th>\n",
       "    </tr>\n",
       "  </thead>\n",
       "  <tbody>\n",
       "    <tr>\n",
       "      <th>0</th>\n",
       "      <td>Our Deeds are the Reason of this #earthquake M...</td>\n",
       "      <td>1</td>\n",
       "    </tr>\n",
       "    <tr>\n",
       "      <th>1</th>\n",
       "      <td>Forest fire near La Ronge Sask. Canada</td>\n",
       "      <td>1</td>\n",
       "    </tr>\n",
       "    <tr>\n",
       "      <th>2</th>\n",
       "      <td>All residents asked to 'shelter in place' are ...</td>\n",
       "      <td>1</td>\n",
       "    </tr>\n",
       "    <tr>\n",
       "      <th>3</th>\n",
       "      <td>13,000 people receive #wildfires evacuation or...</td>\n",
       "      <td>1</td>\n",
       "    </tr>\n",
       "    <tr>\n",
       "      <th>4</th>\n",
       "      <td>Just got sent this photo from Ruby #Alaska as ...</td>\n",
       "      <td>1</td>\n",
       "    </tr>\n",
       "  </tbody>\n",
       "</table>\n",
       "</div>"
      ],
      "text/plain": [
       "                                                text  target\n",
       "0  Our Deeds are the Reason of this #earthquake M...       1\n",
       "1             Forest fire near La Ronge Sask. Canada       1\n",
       "2  All residents asked to 'shelter in place' are ...       1\n",
       "3  13,000 people receive #wildfires evacuation or...       1\n",
       "4  Just got sent this photo from Ruby #Alaska as ...       1"
      ]
     },
     "execution_count": 3,
     "metadata": {},
     "output_type": "execute_result"
    }
   ],
   "source": [
    "tweets_df = tweets_df.drop(['id','keyword', 'location'], axis=1)\n",
    "tweets_df.head()"
   ]
  },
  {
   "cell_type": "markdown",
   "metadata": {
    "id": "rdaL6uxPZrUU"
   },
   "source": [
    "### Remove punctuation and convert to lower"
   ]
  },
  {
   "cell_type": "code",
   "execution_count": 4,
   "metadata": {
    "id": "vG0EHiXJZrUV"
   },
   "outputs": [
    {
     "data": {
      "text/html": [
       "<div>\n",
       "<style scoped>\n",
       "    .dataframe tbody tr th:only-of-type {\n",
       "        vertical-align: middle;\n",
       "    }\n",
       "\n",
       "    .dataframe tbody tr th {\n",
       "        vertical-align: top;\n",
       "    }\n",
       "\n",
       "    .dataframe thead th {\n",
       "        text-align: right;\n",
       "    }\n",
       "</style>\n",
       "<table border=\"1\" class=\"dataframe\">\n",
       "  <thead>\n",
       "    <tr style=\"text-align: right;\">\n",
       "      <th></th>\n",
       "      <th>text</th>\n",
       "      <th>target</th>\n",
       "    </tr>\n",
       "  </thead>\n",
       "  <tbody>\n",
       "    <tr>\n",
       "      <th>0</th>\n",
       "      <td>our deeds are the reason of this #earthquake m...</td>\n",
       "      <td>1</td>\n",
       "    </tr>\n",
       "    <tr>\n",
       "      <th>1</th>\n",
       "      <td>forest fire near la ronge sask canada</td>\n",
       "      <td>1</td>\n",
       "    </tr>\n",
       "    <tr>\n",
       "      <th>2</th>\n",
       "      <td>all residents asked to 'shelter in place' are ...</td>\n",
       "      <td>1</td>\n",
       "    </tr>\n",
       "    <tr>\n",
       "      <th>3</th>\n",
       "      <td>13000 people receive #wildfires evacuation ord...</td>\n",
       "      <td>1</td>\n",
       "    </tr>\n",
       "    <tr>\n",
       "      <th>4</th>\n",
       "      <td>just got sent this photo from ruby #alaska as ...</td>\n",
       "      <td>1</td>\n",
       "    </tr>\n",
       "  </tbody>\n",
       "</table>\n",
       "</div>"
      ],
      "text/plain": [
       "                                                text  target\n",
       "0  our deeds are the reason of this #earthquake m...       1\n",
       "1              forest fire near la ronge sask canada       1\n",
       "2  all residents asked to 'shelter in place' are ...       1\n",
       "3  13000 people receive #wildfires evacuation ord...       1\n",
       "4  just got sent this photo from ruby #alaska as ...       1"
      ]
     },
     "execution_count": 4,
     "metadata": {},
     "output_type": "execute_result"
    }
   ],
   "source": [
    "#Remove Punctuation\n",
    "tweets_df['text'] = tweets_df['text'].map(lambda x: re.sub('[,\\.!?]', '', x))\n",
    "\n",
    "#Convert to lower\n",
    "tweets_df['text'] = tweets_df['text'].str.lower()\n",
    "\n",
    "tweets_df.head()"
   ]
  },
  {
   "cell_type": "markdown",
   "metadata": {
    "id": "DjpkSdNvZrUX"
   },
   "source": [
    "### Tokenize "
   ]
  },
  {
   "cell_type": "code",
   "execution_count": 5,
   "metadata": {
    "id": "qO1nDNYiZrUX"
   },
   "outputs": [],
   "source": [
    "tt = TweetTokenizer()\n",
    "tok_words = tweets_df['text'].apply(tt.tokenize)"
   ]
  },
  {
   "cell_type": "markdown",
   "metadata": {
    "id": "2OLryer5ZrUY"
   },
   "source": [
    "### Remove stopwords and lemmatization:"
   ]
  },
  {
   "cell_type": "code",
   "execution_count": 6,
   "metadata": {
    "executionInfo": {
     "elapsed": 434,
     "status": "ok",
     "timestamp": 1636658059344,
     "user": {
      "displayName": "nasiem ayob",
      "photoUrl": "https://lh3.googleusercontent.com/a-/AOh14GhYsNLn4PyjrikyWulX3z0YxowYE_hrwXX7YWlg=s64",
      "userId": "17753770046204324955"
     },
     "user_tz": -120
    },
    "id": "DbAM_pFlZrUZ"
   },
   "outputs": [],
   "source": [
    "# Removing stopwords to prevent noise in the features\n",
    "def remove_stopwords(texts):\n",
    "    nostop_list = []\n",
    "    for t in texts:\n",
    "        nostop_text = [word for word in simple_preprocess(str(t)) if word not in stop_words]\n",
    "        nostop_list.append(nostop_text )\n",
    "    \n",
    "    return nostop_list"
   ]
  },
  {
   "cell_type": "code",
   "execution_count": 7,
   "metadata": {
    "executionInfo": {
     "elapsed": 3,
     "status": "ok",
     "timestamp": 1636658060820,
     "user": {
      "displayName": "nasiem ayob",
      "photoUrl": "https://lh3.googleusercontent.com/a-/AOh14GhYsNLn4PyjrikyWulX3z0YxowYE_hrwXX7YWlg=s64",
      "userId": "17753770046204324955"
     },
     "user_tz": -120
    },
    "id": "Afyb-nfdZrUZ"
   },
   "outputs": [],
   "source": [
    "# To normalize words and reduce the dimensions of our space by extracting nouns,adjectives,verbs and adverbs\n",
    "def lemmatize(texts):\n",
    "    is_tag = lambda pos: pos[:2] == 'NN' or pos[:2] == 'JJ'or pos[:2] == 'VB'or pos[:2] == 'RB'\n",
    "    lem_list = []\n",
    "    for t in texts:\n",
    "        lem_text = [word for (word, pos) in pos_tag(t) if is_tag(pos)] \n",
    "        lem_list.append( [nlp(\" \".join(lem_text))] )\n",
    "    \n",
    "    return lem_list"
   ]
  },
  {
   "cell_type": "markdown",
   "metadata": {
    "id": "PVDReuLPZrUa"
   },
   "source": [
    "#### Remove stopwords"
   ]
  },
  {
   "cell_type": "code",
   "execution_count": 8,
   "metadata": {
    "colab": {
     "base_uri": "https://localhost:8080/"
    },
    "executionInfo": {
     "elapsed": 1018,
     "status": "ok",
     "timestamp": 1636658155717,
     "user": {
      "displayName": "nasiem ayob",
      "photoUrl": "https://lh3.googleusercontent.com/a-/AOh14GhYsNLn4PyjrikyWulX3z0YxowYE_hrwXX7YWlg=s64",
      "userId": "17753770046204324955"
     },
     "user_tz": -120
    },
    "id": "Z0hGqLsBZrUa",
    "outputId": "e0b86879-521c-4d96-ad6e-e4b0209213be"
   },
   "outputs": [
    {
     "name": "stdout",
     "output_type": "stream",
     "text": [
      "Defaulting to user installation because normal site-packages is not writeable\n",
      "Collecting en-core-web-sm==3.1.0\n",
      "  Downloading https://github.com/explosion/spacy-models/releases/download/en_core_web_sm-3.1.0/en_core_web_sm-3.1.0-py3-none-any.whl (13.6 MB)\n",
      "\u001b[K     |████████████████████████████████| 13.6 MB 1.5 MB/s eta 0:00:01\n",
      "\u001b[?25hRequirement already satisfied: spacy<3.2.0,>=3.1.0 in /home/nasiem/.local/lib/python3.8/site-packages (from en-core-web-sm==3.1.0) (3.1.1)\n",
      "Requirement already satisfied: requests<3.0.0,>=2.13.0 in /home/nasiem/.local/lib/python3.8/site-packages (from spacy<3.2.0,>=3.1.0->en-core-web-sm==3.1.0) (2.21.0)\n",
      "Requirement already satisfied: catalogue<2.1.0,>=2.0.4 in /home/nasiem/.local/lib/python3.8/site-packages (from spacy<3.2.0,>=3.1.0->en-core-web-sm==3.1.0) (2.0.4)\n",
      "Requirement already satisfied: cymem<2.1.0,>=2.0.2 in /home/nasiem/.local/lib/python3.8/site-packages (from spacy<3.2.0,>=3.1.0->en-core-web-sm==3.1.0) (2.0.5)\n",
      "Requirement already satisfied: murmurhash<1.1.0,>=0.28.0 in /home/nasiem/.local/lib/python3.8/site-packages (from spacy<3.2.0,>=3.1.0->en-core-web-sm==3.1.0) (1.0.5)\n",
      "Requirement already satisfied: thinc<8.1.0,>=8.0.8 in /home/nasiem/.local/lib/python3.8/site-packages (from spacy<3.2.0,>=3.1.0->en-core-web-sm==3.1.0) (8.0.8)\n",
      "Requirement already satisfied: blis<0.8.0,>=0.4.0 in /home/nasiem/.local/lib/python3.8/site-packages (from spacy<3.2.0,>=3.1.0->en-core-web-sm==3.1.0) (0.7.4)\n",
      "Requirement already satisfied: pydantic!=1.8,!=1.8.1,<1.9.0,>=1.7.4 in /home/nasiem/.local/lib/python3.8/site-packages (from spacy<3.2.0,>=3.1.0->en-core-web-sm==3.1.0) (1.8.2)\n",
      "Requirement already satisfied: jinja2 in /home/nasiem/.local/lib/python3.8/site-packages (from spacy<3.2.0,>=3.1.0->en-core-web-sm==3.1.0) (3.0.1)\n",
      "Requirement already satisfied: packaging>=20.0 in /home/nasiem/.local/lib/python3.8/site-packages (from spacy<3.2.0,>=3.1.0->en-core-web-sm==3.1.0) (21.0)\n",
      "Requirement already satisfied: pathy>=0.3.5 in /home/nasiem/.local/lib/python3.8/site-packages (from spacy<3.2.0,>=3.1.0->en-core-web-sm==3.1.0) (0.6.0)\n",
      "Requirement already satisfied: typer<0.4.0,>=0.3.0 in /home/nasiem/.local/lib/python3.8/site-packages (from spacy<3.2.0,>=3.1.0->en-core-web-sm==3.1.0) (0.3.2)\n",
      "Requirement already satisfied: numpy>=1.15.0 in /home/nasiem/.local/lib/python3.8/site-packages (from spacy<3.2.0,>=3.1.0->en-core-web-sm==3.1.0) (1.21.1)\n",
      "Requirement already satisfied: spacy-legacy<3.1.0,>=3.0.7 in /home/nasiem/.local/lib/python3.8/site-packages (from spacy<3.2.0,>=3.1.0->en-core-web-sm==3.1.0) (3.0.8)\n",
      "Requirement already satisfied: srsly<3.0.0,>=2.4.1 in /home/nasiem/.local/lib/python3.8/site-packages (from spacy<3.2.0,>=3.1.0->en-core-web-sm==3.1.0) (2.4.1)\n",
      "Requirement already satisfied: wasabi<1.1.0,>=0.8.1 in /home/nasiem/.local/lib/python3.8/site-packages (from spacy<3.2.0,>=3.1.0->en-core-web-sm==3.1.0) (0.8.2)\n",
      "Requirement already satisfied: preshed<3.1.0,>=3.0.2 in /home/nasiem/.local/lib/python3.8/site-packages (from spacy<3.2.0,>=3.1.0->en-core-web-sm==3.1.0) (3.0.5)\n",
      "Requirement already satisfied: tqdm<5.0.0,>=4.38.0 in /home/nasiem/.local/lib/python3.8/site-packages (from spacy<3.2.0,>=3.1.0->en-core-web-sm==3.1.0) (4.61.2)\n",
      "Requirement already satisfied: setuptools in /usr/lib/python3/dist-packages (from spacy<3.2.0,>=3.1.0->en-core-web-sm==3.1.0) (45.2.0)\n",
      "Requirement already satisfied: pyparsing>=2.0.2 in /home/nasiem/.local/lib/python3.8/site-packages (from packaging>=20.0->spacy<3.2.0,>=3.1.0->en-core-web-sm==3.1.0) (2.4.7)\n",
      "Requirement already satisfied: smart-open<6.0.0,>=5.0.0 in /home/nasiem/.local/lib/python3.8/site-packages (from pathy>=0.3.5->spacy<3.2.0,>=3.1.0->en-core-web-sm==3.1.0) (5.1.0)\n",
      "Requirement already satisfied: typing-extensions>=3.7.4.3 in /home/nasiem/.local/lib/python3.8/site-packages (from pydantic!=1.8,!=1.8.1,<1.9.0,>=1.7.4->spacy<3.2.0,>=3.1.0->en-core-web-sm==3.1.0) (3.10.0.0)\n",
      "Requirement already satisfied: idna<2.9,>=2.5 in /usr/lib/python3/dist-packages (from requests<3.0.0,>=2.13.0->spacy<3.2.0,>=3.1.0->en-core-web-sm==3.1.0) (2.8)\n",
      "Requirement already satisfied: urllib3<1.25,>=1.21.1 in /home/nasiem/.local/lib/python3.8/site-packages (from requests<3.0.0,>=2.13.0->spacy<3.2.0,>=3.1.0->en-core-web-sm==3.1.0) (1.24.3)\n",
      "Requirement already satisfied: chardet<3.1.0,>=3.0.2 in /usr/lib/python3/dist-packages (from requests<3.0.0,>=2.13.0->spacy<3.2.0,>=3.1.0->en-core-web-sm==3.1.0) (3.0.4)\n",
      "Requirement already satisfied: certifi>=2017.4.17 in /usr/lib/python3/dist-packages (from requests<3.0.0,>=2.13.0->spacy<3.2.0,>=3.1.0->en-core-web-sm==3.1.0) (2019.11.28)\n",
      "Requirement already satisfied: click<7.2.0,>=7.1.1 in /home/nasiem/.local/lib/python3.8/site-packages (from typer<0.4.0,>=0.3.0->spacy<3.2.0,>=3.1.0->en-core-web-sm==3.1.0) (7.1.2)\n",
      "Requirement already satisfied: MarkupSafe>=2.0 in /home/nasiem/.local/lib/python3.8/site-packages (from jinja2->spacy<3.2.0,>=3.1.0->en-core-web-sm==3.1.0) (2.0.1)\n",
      "\u001b[33mWARNING: You are using pip version 21.2.4; however, version 21.3.1 is available.\n",
      "You should consider upgrading via the '/usr/bin/python3 -m pip install --upgrade pip' command.\u001b[0m\n",
      "\u001b[38;5;2m✔ Download and installation successful\u001b[0m\n",
      "You can now load the package via spacy.load('en_core_web_sm')\n"
     ]
    },
    {
     "name": "stderr",
     "output_type": "stream",
     "text": [
      "[nltk_data] Downloading package stopwords to /home/nasiem/nltk_data...\n",
      "[nltk_data]   Package stopwords is already up-to-date!\n"
     ]
    }
   ],
   "source": [
    "!python3 -m spacy download en_core_web_sm\n",
    "nltk.download('stopwords')\n",
    "\n",
    "nlp = spacy.load(\"en_core_web_sm\", disable=['parser', 'ner'])\n",
    "\n",
    "#creating all the stopwords(commonly used words)\n",
    "stop_words = stopwords.words('english')\n",
    "stop_words.extend(['from', 'subject','cant','musnt', 're', 'edu', 'use','whats','havent'])\n",
    "\n",
    "nostops_texts = remove_stopwords(tok_words)"
   ]
  },
  {
   "cell_type": "markdown",
   "metadata": {
    "id": "XRUk_4wNZrUb"
   },
   "source": [
    "#### Lemmatization"
   ]
  },
  {
   "cell_type": "code",
   "execution_count": 9,
   "metadata": {
    "id": "4Y0iH_F2ZrUb"
   },
   "outputs": [
    {
     "name": "stderr",
     "output_type": "stream",
     "text": [
      "[nltk_data] Downloading package averaged_perceptron_tagger to\n",
      "[nltk_data]     /home/nasiem/nltk_data...\n",
      "[nltk_data]   Package averaged_perceptron_tagger is already up-to-\n",
      "[nltk_data]       date!\n"
     ]
    }
   ],
   "source": [
    "nltk.download('averaged_perceptron_tagger')\n",
    "\n",
    "lem_texts = lemmatize(nostops_texts)"
   ]
  },
  {
   "cell_type": "markdown",
   "metadata": {
    "id": "cqbZ_jvZZrUb"
   },
   "source": [
    "### Create processed dataframe"
   ]
  },
  {
   "cell_type": "code",
   "execution_count": 10,
   "metadata": {
    "id": "s6L5yAH_ZrUc"
   },
   "outputs": [
    {
     "data": {
      "text/html": [
       "<div>\n",
       "<style scoped>\n",
       "    .dataframe tbody tr th:only-of-type {\n",
       "        vertical-align: middle;\n",
       "    }\n",
       "\n",
       "    .dataframe tbody tr th {\n",
       "        vertical-align: top;\n",
       "    }\n",
       "\n",
       "    .dataframe thead th {\n",
       "        text-align: right;\n",
       "    }\n",
       "</style>\n",
       "<table border=\"1\" class=\"dataframe\">\n",
       "  <thead>\n",
       "    <tr style=\"text-align: right;\">\n",
       "      <th></th>\n",
       "      <th>text</th>\n",
       "      <th>target</th>\n",
       "    </tr>\n",
       "  </thead>\n",
       "  <tbody>\n",
       "    <tr>\n",
       "      <th>0</th>\n",
       "      <td>deeds reason earthquake allah forgive</td>\n",
       "      <td>1</td>\n",
       "    </tr>\n",
       "    <tr>\n",
       "      <th>1</th>\n",
       "      <td>forest fire la ronge sask canada</td>\n",
       "      <td>1</td>\n",
       "    </tr>\n",
       "    <tr>\n",
       "      <th>2</th>\n",
       "      <td>residents asked shelter place notified officer...</td>\n",
       "      <td>1</td>\n",
       "    </tr>\n",
       "    <tr>\n",
       "      <th>3</th>\n",
       "      <td>people receive wildfires evacuation orders cal...</td>\n",
       "      <td>1</td>\n",
       "    </tr>\n",
       "    <tr>\n",
       "      <th>4</th>\n",
       "      <td>got sent photo ruby alaska smoke wildfires pou...</td>\n",
       "      <td>1</td>\n",
       "    </tr>\n",
       "  </tbody>\n",
       "</table>\n",
       "</div>"
      ],
      "text/plain": [
       "                                                text  target\n",
       "0              deeds reason earthquake allah forgive       1\n",
       "1                   forest fire la ronge sask canada       1\n",
       "2  residents asked shelter place notified officer...       1\n",
       "3  people receive wildfires evacuation orders cal...       1\n",
       "4  got sent photo ruby alaska smoke wildfires pou...       1"
      ]
     },
     "execution_count": 10,
     "metadata": {},
     "output_type": "execute_result"
    }
   ],
   "source": [
    "#Adds the processed text to the dataframe\n",
    "for i in range(7613):\n",
    "    tweets_df['text'] = tweets_df['text'].replace(tweets_df.text.values[i],str(lem_texts[i][0]))\n",
    "    \n",
    "tweets_df.head()"
   ]
  },
  {
   "cell_type": "code",
   "execution_count": 11,
   "metadata": {
    "id": "oWlepHKyZrUd"
   },
   "outputs": [],
   "source": [
    "tweets_df.to_pickle('cleaned_data.pkl')"
   ]
  },
  {
   "cell_type": "markdown",
   "metadata": {
    "id": "Q6wJuWMzZrUf"
   },
   "source": [
    "### Load processed data"
   ]
  },
  {
   "cell_type": "code",
   "execution_count": 12,
   "metadata": {
    "id": "52AvCEJCZrUf"
   },
   "outputs": [
    {
     "data": {
      "text/html": [
       "<div>\n",
       "<style scoped>\n",
       "    .dataframe tbody tr th:only-of-type {\n",
       "        vertical-align: middle;\n",
       "    }\n",
       "\n",
       "    .dataframe tbody tr th {\n",
       "        vertical-align: top;\n",
       "    }\n",
       "\n",
       "    .dataframe thead th {\n",
       "        text-align: right;\n",
       "    }\n",
       "</style>\n",
       "<table border=\"1\" class=\"dataframe\">\n",
       "  <thead>\n",
       "    <tr style=\"text-align: right;\">\n",
       "      <th></th>\n",
       "      <th>text</th>\n",
       "      <th>target</th>\n",
       "    </tr>\n",
       "  </thead>\n",
       "  <tbody>\n",
       "    <tr>\n",
       "      <th>0</th>\n",
       "      <td>deeds reason earthquake allah forgive</td>\n",
       "      <td>1</td>\n",
       "    </tr>\n",
       "    <tr>\n",
       "      <th>1</th>\n",
       "      <td>forest fire la ronge sask canada</td>\n",
       "      <td>1</td>\n",
       "    </tr>\n",
       "    <tr>\n",
       "      <th>2</th>\n",
       "      <td>residents asked shelter place notified officer...</td>\n",
       "      <td>1</td>\n",
       "    </tr>\n",
       "    <tr>\n",
       "      <th>3</th>\n",
       "      <td>people receive wildfires evacuation orders cal...</td>\n",
       "      <td>1</td>\n",
       "    </tr>\n",
       "    <tr>\n",
       "      <th>4</th>\n",
       "      <td>got sent photo ruby alaska smoke wildfires pou...</td>\n",
       "      <td>1</td>\n",
       "    </tr>\n",
       "    <tr>\n",
       "      <th>...</th>\n",
       "      <td>...</td>\n",
       "      <td>...</td>\n",
       "    </tr>\n",
       "    <tr>\n",
       "      <th>7608</th>\n",
       "      <td>giant cranes holding bridge collapse nearby ho...</td>\n",
       "      <td>1</td>\n",
       "    </tr>\n",
       "    <tr>\n",
       "      <th>7609</th>\n",
       "      <td>aria_ahrary thetawniest control wild fires cal...</td>\n",
       "      <td>1</td>\n",
       "    </tr>\n",
       "    <tr>\n",
       "      <th>7610</th>\n",
       "      <td>utc km volcano hawaii http tco zdtoyd ebj</td>\n",
       "      <td>1</td>\n",
       "    </tr>\n",
       "    <tr>\n",
       "      <th>7611</th>\n",
       "      <td>police investigating bike collided car little ...</td>\n",
       "      <td>1</td>\n",
       "    </tr>\n",
       "    <tr>\n",
       "      <th>7612</th>\n",
       "      <td>latest homes razed northern california wildfir...</td>\n",
       "      <td>1</td>\n",
       "    </tr>\n",
       "  </tbody>\n",
       "</table>\n",
       "<p>7613 rows × 2 columns</p>\n",
       "</div>"
      ],
      "text/plain": [
       "                                                   text  target\n",
       "0                 deeds reason earthquake allah forgive       1\n",
       "1                      forest fire la ronge sask canada       1\n",
       "2     residents asked shelter place notified officer...       1\n",
       "3     people receive wildfires evacuation orders cal...       1\n",
       "4     got sent photo ruby alaska smoke wildfires pou...       1\n",
       "...                                                 ...     ...\n",
       "7608  giant cranes holding bridge collapse nearby ho...       1\n",
       "7609  aria_ahrary thetawniest control wild fires cal...       1\n",
       "7610          utc km volcano hawaii http tco zdtoyd ebj       1\n",
       "7611  police investigating bike collided car little ...       1\n",
       "7612  latest homes razed northern california wildfir...       1\n",
       "\n",
       "[7613 rows x 2 columns]"
      ]
     },
     "execution_count": 12,
     "metadata": {},
     "output_type": "execute_result"
    }
   ],
   "source": [
    "tweets_df = pd.read_pickle('cleaned_data.pkl')\n",
    "tweets_df"
   ]
  },
  {
   "cell_type": "code",
   "execution_count": 13,
   "metadata": {},
   "outputs": [],
   "source": [
    "words = ' '.join([i for i in tweets_df['text']]).split()\n",
    "\n",
    "# Create a list of all unique words for the bag of words(BOW) representation\n",
    "unique_words_org = list(set(tweets_df['text'].str.replace('[^a-zA-Z ]','', regex=True).str.split(' ').sum()))"
   ]
  },
  {
   "cell_type": "code",
   "execution_count": 14,
   "metadata": {},
   "outputs": [],
   "source": [
    "# All words in the text column\n",
    "text_words = ' '.join([i for i in tweets_df['text']]).split()\n",
    "\n",
    "# Keeping unique words that are found in text column\n",
    "new_words = [word for word in text_words if word in unique_words_org]\n",
    "\n",
    "# Dictionary of each word mapped to its frequency\n",
    "freq = collections.Counter(new_words)\n",
    "\n",
    "unique_words = []\n",
    "\n",
    "#Removing words with frequency < 10\n",
    "for key, value in freq.items():\n",
    "    if (value > 10):\n",
    "        unique_words.append(key)"
   ]
  },
  {
   "cell_type": "code",
   "execution_count": 15,
   "metadata": {},
   "outputs": [],
   "source": [
    "# Create bag of words that will be used as an input to train the model\n",
    "cv = CountVectorizer(max_features = len(unique_words))\n",
    "bow = cv.fit_transform(tweets_df['text'].values).toarray()\n",
    "#bow"
   ]
  },
  {
   "cell_type": "code",
   "execution_count": 16,
   "metadata": {},
   "outputs": [],
   "source": [
    "X = bow\n",
    "y = tweets_df['target']\n",
    "\n",
    "X_train, X_test, y_train, y_test = train_test_split(X, y, test_size=0.2)"
   ]
  },
  {
   "cell_type": "markdown",
   "metadata": {},
   "source": [
    "** **\n",
    "### Logistic Regression Model\n",
    "** **"
   ]
  },
  {
   "cell_type": "markdown",
   "metadata": {},
   "source": [
    "#### Model fitting "
   ]
  },
  {
   "cell_type": "code",
   "execution_count": 17,
   "metadata": {},
   "outputs": [
    {
     "data": {
      "text/plain": [
       "LogisticRegression()"
      ]
     },
     "execution_count": 17,
     "metadata": {},
     "output_type": "execute_result"
    }
   ],
   "source": [
    "lr = LogisticRegression()\n",
    "lr.fit(X_train,y_train)"
   ]
  },
  {
   "cell_type": "markdown",
   "metadata": {},
   "source": [
    "#### Predictions and classficication report"
   ]
  },
  {
   "cell_type": "code",
   "execution_count": 18,
   "metadata": {},
   "outputs": [
    {
     "name": "stdout",
     "output_type": "stream",
     "text": [
      "              precision    recall  f1-score   support\n",
      "\n",
      "           0       0.79      0.87      0.83       851\n",
      "           1       0.81      0.71      0.76       672\n",
      "\n",
      "    accuracy                           0.80      1523\n",
      "   macro avg       0.80      0.79      0.79      1523\n",
      "weighted avg       0.80      0.80      0.80      1523\n",
      "\n"
     ]
    }
   ],
   "source": [
    "y_pred  = lr.predict(X_test)\n",
    "\n",
    "\n",
    "print(classification_report(y_test,y_pred))"
   ]
  },
  {
   "cell_type": "markdown",
   "metadata": {},
   "source": [
    "#### Confusion matrix"
   ]
  },
  {
   "cell_type": "code",
   "execution_count": 19,
   "metadata": {},
   "outputs": [
    {
     "data": {
      "image/png": "[encoded data removed]",
      "text/plain": [
       "<Figure size 432x432 with 2 Axes>"
      ]
     },
     "metadata": {
      "needs_background": "light"
     },
     "output_type": "display_data"
    }
   ],
   "source": [
    "cm = metrics.confusion_matrix(y_test, y_pred)\n",
    "\n",
    "plt.figure(figsize=(6,6))\n",
    "sns.heatmap(cm, annot=True, fmt=\".3f\", linewidths=.5, square = True, cmap = 'Blues_r');\n",
    "plt.ylabel('Actual value');\n",
    "plt.xlabel('Predicted value');\n",
    "cm_title = 'Accuracy Score: {0}'.format(accuracy_score(y_test,y_pred))\n",
    "plt.title(cm_title, size = 15);"
   ]
  },
  {
   "cell_type": "markdown",
   "metadata": {
    "id": "7-LGSWJGdN9P"
   },
   "source": [
    "** **\n",
    "### Multinomial  Naive Bayes Classifier Model\n",
    "** **"
   ]
  },
  {
   "cell_type": "markdown",
   "metadata": {},
   "source": [
    "#### Model fitting "
   ]
  },
  {
   "cell_type": "code",
   "execution_count": 20,
   "metadata": {},
   "outputs": [
    {
     "data": {
      "text/plain": [
       "MultinomialNB()"
      ]
     },
     "execution_count": 20,
     "metadata": {},
     "output_type": "execute_result"
    }
   ],
   "source": [
    "nb = MultinomialNB()\n",
    "nb.fit(X_train, y_train)"
   ]
  },
  {
   "cell_type": "markdown",
   "metadata": {},
   "source": [
    "#### Predictions and classficication report"
   ]
  },
  {
   "cell_type": "code",
   "execution_count": 21,
   "metadata": {
    "id": "TgBCJL7bdvFn",
    "scrolled": true
   },
   "outputs": [
    {
     "name": "stdout",
     "output_type": "stream",
     "text": [
      "accuracy 0.7747866053841103\n",
      "              precision    recall  f1-score   support\n",
      "\n",
      "           0       0.77      0.85      0.81       851\n",
      "           1       0.78      0.68      0.73       672\n",
      "\n",
      "    accuracy                           0.77      1523\n",
      "   macro avg       0.78      0.76      0.77      1523\n",
      "weighted avg       0.78      0.77      0.77      1523\n",
      "\n"
     ]
    }
   ],
   "source": [
    "y_pred = nb.predict(X_test)\n",
    "\n",
    "print('accuracy %s' % accuracy_score(y_pred, y_test))\n",
    "print(classification_report(y_test, y_pred))"
   ]
  },
  {
   "cell_type": "markdown",
   "metadata": {},
   "source": [
    "#### Confusion matrix"
   ]
  },
  {
   "cell_type": "code",
   "execution_count": 22,
   "metadata": {
    "id": "GpZFSP5PhHHH"
   },
   "outputs": [
    {
     "data": {
      "image/png": "[encoded data removed]",
      "text/plain": [
       "<Figure size 432x432 with 2 Axes>"
      ]
     },
     "metadata": {
      "needs_background": "light"
     },
     "output_type": "display_data"
    }
   ],
   "source": [
    "cm = metrics.confusion_matrix(y_test, y_pred)\n",
    "\n",
    "plt.figure(figsize=(6,6))\n",
    "sns.heatmap(cm, annot=True, fmt=\".3f\", linewidths=.5, square = True, cmap = 'Blues_r');\n",
    "plt.ylabel('Actual value');\n",
    "plt.xlabel('Predicted value');\n",
    "cm_title = 'Accuracy Score: {0}'.format(accuracy_score(y_test,y_pred))\n",
    "plt.title(cm_title, size = 15);"
   ]
  },
  {
   "cell_type": "markdown",
   "metadata": {},
   "source": [
    "****\n",
    "### Support Vector Model\n",
    "****"
   ]
  },
  {
   "cell_type": "markdown",
   "metadata": {},
   "source": [
    "#### Model fitting "
   ]
  },
  {
   "cell_type": "code",
   "execution_count": 23,
   "metadata": {},
   "outputs": [
    {
     "data": {
      "text/plain": [
       "SGDClassifier(alpha=0.001, max_iter=5, random_state=42, tol=None)"
      ]
     },
     "execution_count": 23,
     "metadata": {},
     "output_type": "execute_result"
    }
   ],
   "source": [
    "sgd = SGDClassifier(loss='hinge', penalty='l2',alpha=1e-3, random_state=42, max_iter=5, tol=None)\n",
    "sgd.fit(X_train, y_train)"
   ]
  },
  {
   "cell_type": "markdown",
   "metadata": {},
   "source": [
    "#### Predictions and classficication report"
   ]
  },
  {
   "cell_type": "code",
   "execution_count": 24,
   "metadata": {
    "id": "MEaNN-SLhLNB",
    "scrolled": true
   },
   "outputs": [
    {
     "name": "stdout",
     "output_type": "stream",
     "text": [
      "accuracy 0.7918581746552856\n",
      "              precision    recall  f1-score   support\n",
      "\n",
      "           0       0.77      0.90      0.83       851\n",
      "           1       0.84      0.65      0.73       672\n",
      "\n",
      "    accuracy                           0.79      1523\n",
      "   macro avg       0.80      0.78      0.78      1523\n",
      "weighted avg       0.80      0.79      0.79      1523\n",
      "\n"
     ]
    }
   ],
   "source": [
    "y_pred = sgd.predict(X_test)\n",
    "\n",
    "print('accuracy %s' % accuracy_score(y_pred, y_test))\n",
    "print(classification_report(y_test, y_pred))"
   ]
  },
  {
   "cell_type": "markdown",
   "metadata": {},
   "source": [
    "#### Confusion matrix"
   ]
  },
  {
   "cell_type": "code",
   "execution_count": 25,
   "metadata": {
    "id": "DDCVg0pihS5l"
   },
   "outputs": [
    {
     "data": {
      "image/png": "[encoded data removed]",
      "text/plain": [
       "<Figure size 432x432 with 2 Axes>"
      ]
     },
     "metadata": {
      "needs_background": "light"
     },
     "output_type": "display_data"
    }
   ],
   "source": [
    "cm = metrics.confusion_matrix(y_test, y_pred)\n",
    "\n",
    "plt.figure(figsize=(6,6))\n",
    "sns.heatmap(cm, annot=True, fmt=\".3f\", linewidths=.5, square = True, cmap = 'Blues_r');\n",
    "plt.ylabel('Actual value');\n",
    "plt.xlabel('Predicted value');\n",
    "cm_title = 'Accuracy Score: {0}'.format(accuracy_score(y_test,y_pred))\n",
    "plt.title(cm_title, size = 15);"
   ]
  },
  {
   "cell_type": "markdown",
   "metadata": {
    "id": "f3E8WJSIii8P"
   },
   "source": [
    "** **\n",
    "### LDA\n",
    "** **"
   ]
  },
  {
   "cell_type": "markdown",
   "metadata": {},
   "source": [
    "#### Splitting the data for LDA model"
   ]
  },
  {
   "cell_type": "code",
   "execution_count": 26,
   "metadata": {},
   "outputs": [],
   "source": [
    "train_df,test_df = train_test_split(tweets_df,test_size = 0.30,stratify= tweets_df['target'])\n",
    "\n",
    "\n",
    "X_train,y_train = train_df['text'],train_df['target']\n",
    "X_test,y_test = test_df['text'],test_df['target']\n",
    "\n",
    "X_train = X_train.to_frame()\n",
    "X_test = X_test.to_frame()"
   ]
  },
  {
   "cell_type": "markdown",
   "metadata": {},
   "source": [
    "#### Vectorize the data"
   ]
  },
  {
   "cell_type": "code",
   "execution_count": 27,
   "metadata": {
    "executionInfo": {
     "elapsed": 383,
     "status": "ok",
     "timestamp": 1636658178472,
     "user": {
      "displayName": "nasiem ayob",
      "photoUrl": "https://lh3.googleusercontent.com/a-/AOh14GhYsNLn4PyjrikyWulX3z0YxowYE_hrwXX7YWlg=s64",
      "userId": "17753770046204324955"
     },
     "user_tz": -120
    },
    "id": "qcEwJcJTVTH1"
   },
   "outputs": [],
   "source": [
    "import gensim.corpora as corpora\n",
    "\n",
    "def data_vectorized(data_lemmatized):\n",
    "    \n",
    "    # Creates dictionary\n",
    "    id2word = corpora.Dictionary(data_lemmatized)\n",
    "    \n",
    "    # Creates corpus\n",
    "    texts = data_lemmatized\n",
    "    \n",
    "    # Term Document Frequency\n",
    "    corpus = [id2word.doc2bow(text) for text in texts]\n",
    "    \n",
    "    return corpus, id2word"
   ]
  },
  {
   "cell_type": "markdown",
   "metadata": {},
   "source": [
    "#### Prepare the datarame of tweets for the LDA model"
   ]
  },
  {
   "cell_type": "code",
   "execution_count": 28,
   "metadata": {
    "executionInfo": {
     "elapsed": 376,
     "status": "ok",
     "timestamp": 1636658109154,
     "user": {
      "displayName": "nasiem ayob",
      "photoUrl": "https://lh3.googleusercontent.com/a-/AOh14GhYsNLn4PyjrikyWulX3z0YxowYE_hrwXX7YWlg=s64",
      "userId": "17753770046204324955"
     },
     "user_tz": -120
    },
    "id": "djrgXQz-Y6Mq"
   },
   "outputs": [],
   "source": [
    "tt = TweetTokenizer()\n",
    "\n",
    "def data_prep(df):\n",
    "    \n",
    "    # A list of all the preprocessed tweets\n",
    "    data = list(df['text'].values)\n",
    "    \n",
    "    # Since the tweets have already been lemmatized, tokenization is required after lemmatization for the lda. \n",
    "    lem_texts = df['text'].apply(tt.tokenize)\n",
    "    \n",
    "    # Creates corpus\n",
    "    corpus,id2word = data_vectorized(lem_texts)\n",
    "    \n",
    "    return data,lem_texts,corpus,id2word"
   ]
  },
  {
   "cell_type": "code",
   "execution_count": 29,
   "metadata": {
    "executionInfo": {
     "elapsed": 9640,
     "status": "ok",
     "timestamp": 1636658190004,
     "user": {
      "displayName": "nasiem ayob",
      "photoUrl": "https://lh3.googleusercontent.com/a-/AOh14GhYsNLn4PyjrikyWulX3z0YxowYE_hrwXX7YWlg=s64",
      "userId": "17753770046204324955"
     },
     "user_tz": -120
    },
    "id": "C8JTdFkxaTgX"
   },
   "outputs": [],
   "source": [
    "#Prepares the trained data for the lda model by converting it into a bag of words.\n",
    "data_T,data_lemmatized_T,corpus_T,id2word_T = data_prep(X_train)"
   ]
  },
  {
   "cell_type": "markdown",
   "metadata": {},
   "source": [
    "#### Build LDA model"
   ]
  },
  {
   "cell_type": "code",
   "execution_count": 30,
   "metadata": {
    "executionInfo": {
     "elapsed": 51356,
     "status": "ok",
     "timestamp": 1636658265986,
     "user": {
      "displayName": "nasiem ayob",
      "photoUrl": "https://lh3.googleusercontent.com/a-/AOh14GhYsNLn4PyjrikyWulX3z0YxowYE_hrwXX7YWlg=s64",
      "userId": "17753770046204324955"
     },
     "user_tz": -120
    },
    "id": "vvdFlTeFYFoF"
   },
   "outputs": [],
   "source": [
    "lda_model = gensim.models.LdaMulticore(corpus=corpus_T,\n",
    "                                       id2word=id2word_T,\n",
    "                                       num_topics=2, \n",
    "                                       random_state=100,\n",
    "                                       chunksize=100,\n",
    "                                       passes=10,\n",
    "                                       per_word_topics=True)"
   ]
  },
  {
   "cell_type": "markdown",
   "metadata": {},
   "source": [
    "#### Prints out the dominant words per topic"
   ]
  },
  {
   "cell_type": "code",
   "execution_count": 31,
   "metadata": {
    "colab": {
     "base_uri": "https://localhost:8080/"
    },
    "executionInfo": {
     "elapsed": 12,
     "status": "ok",
     "timestamp": 1636658267401,
     "user": {
      "displayName": "nasiem ayob",
      "photoUrl": "https://lh3.googleusercontent.com/a-/AOh14GhYsNLn4PyjrikyWulX3z0YxowYE_hrwXX7YWlg=s64",
      "userId": "17753770046204324955"
     },
     "user_tz": -120
    },
    "id": "Y9WW7WVSYR6L",
    "outputId": "8f0a53a0-acee-408f-e425-63228133791d",
    "scrolled": true
   },
   "outputs": [
    {
     "name": "stdout",
     "output_type": "stream",
     "text": [
      "Topic: 0 \n",
      "Words: 0.084*\"tco\" + 0.077*\"http\" + 0.006*\"û_\" + 0.004*\"https\" + 0.004*\"news\" + 0.003*\"video\" + 0.003*\"fire\" + 0.003*\"emergency\" + 0.003*\"new\" + 0.003*\"disaster\"\n",
      "Topic: 1 \n",
      "Words: 0.004*\"get\" + 0.004*\"people\" + 0.004*\"https\" + 0.002*\"know\" + 0.002*\"got\" + 0.002*\"back\" + 0.002*\"going\" + 0.002*\"life\" + 0.002*\"pm\" + 0.002*\"day\"\n"
     ]
    }
   ],
   "source": [
    "for idx, topic in lda_model.print_topics(-1):\n",
    "    print('Topic: {} \\nWords: {}'.format(idx, topic))"
   ]
  },
  {
   "cell_type": "markdown",
   "metadata": {},
   "source": [
    "#### Assuming topic 0 relates to non disaster events and topic 1 relates to disaster events"
   ]
  },
  {
   "cell_type": "code",
   "execution_count": 32,
   "metadata": {
    "colab": {
     "base_uri": "https://localhost:8080/"
    },
    "executionInfo": {
     "elapsed": 1042,
     "status": "ok",
     "timestamp": 1636658280264,
     "user": {
      "displayName": "nasiem ayob",
      "photoUrl": "https://lh3.googleusercontent.com/a-/AOh14GhYsNLn4PyjrikyWulX3z0YxowYE_hrwXX7YWlg=s64",
      "userId": "17753770046204324955"
     },
     "user_tz": -120
    },
    "id": "ZSKzFox7imZK",
    "outputId": "b24d336a-d665-48d1-dfc0-abd4d242a01a"
   },
   "outputs": [
    {
     "name": "stdout",
     "output_type": "stream",
     "text": [
      "Coherence score of LDA model:  0.3903172248574681\n"
     ]
    }
   ],
   "source": [
    "from gensim.models import CoherenceModel\n",
    "\n",
    "# Compute Coherence Score\n",
    "c_model = CoherenceModel(model=lda_model, texts=data_lemmatized_T, dictionary=id2word_T, coherence='c_v')\n",
    "c_score = c_model.get_coherence()\n",
    "print('Coherence score of LDA model: ', c_score)"
   ]
  },
  {
   "cell_type": "markdown",
   "metadata": {},
   "source": [
    "#### Unlike the previous models, LDA does not have an in-built predict function"
   ]
  },
  {
   "cell_type": "markdown",
   "metadata": {},
   "source": [
    "#### We coded a predict function"
   ]
  },
  {
   "cell_type": "code",
   "execution_count": 33,
   "metadata": {
    "id": "OiFeehfPeZuY"
   },
   "outputs": [],
   "source": [
    "# Returns the data and corpus created from test data.\n",
    "def predict(X_test):\n",
    "    \n",
    "    data,data_lemmatized,corpus,id2word = data_prep(X_test)\n",
    "    \n",
    "    lda_model[corpus]\n",
    "    \n",
    "    return data,corpus\n",
    "\n",
    "data, corpus = predict(X_test)"
   ]
  },
  {
   "cell_type": "markdown",
   "metadata": {},
   "source": [
    "#### After obtaining the data and corpus using the test data, we needed to figure out a way to compute the accuracy."
   ]
  },
  {
   "cell_type": "markdown",
   "metadata": {},
   "source": [
    "#### We got creative and decided to use a tabular method from https://www.machinelearningplus.com/nlp/topic-modeling-gensim-python/"
   ]
  },
  {
   "cell_type": "code",
   "execution_count": 34,
   "metadata": {
    "executionInfo": {
     "elapsed": 653,
     "status": "ok",
     "timestamp": 1636658354268,
     "user": {
      "displayName": "nasiem ayob",
      "photoUrl": "https://lh3.googleusercontent.com/a-/AOh14GhYsNLn4PyjrikyWulX3z0YxowYE_hrwXX7YWlg=s64",
      "userId": "17753770046204324955"
     },
     "user_tz": -120
    },
    "id": "SzOR_60bcICQ"
   },
   "outputs": [],
   "source": [
    "def format_topics_sentences(ldamodel=lda_model, corpus=corpus_T, texts=data_T):\n",
    "    # Init output\n",
    "    sent_topics_df = pd.DataFrame()\n",
    "\n",
    "    # Get main topic in each document\n",
    "    for i, row in enumerate(ldamodel[corpus]):\n",
    "        row = sorted(row[0], key=lambda x: (x[1]), reverse=True)\n",
    "        # Get the Dominant topic, Perc Contribution and Keywords for each document\n",
    "        for j, (topic_num, prop_topic) in enumerate(row):\n",
    "            if j == 0:  # => dominant topic\n",
    "                wp = ldamodel.show_topic(topic_num)\n",
    "                topic_keywords = \", \".join([word for word, prop in wp])\n",
    "                sent_topics_df = sent_topics_df.append(pd.Series([int(topic_num), round(prop_topic,4), topic_keywords]), ignore_index=True)\n",
    "            else:\n",
    "                break\n",
    "    sent_topics_df.columns = ['Dominant_Topic', 'Perc_Contribution', 'Topic_Keywords']\n",
    "\n",
    "    # Add original text to the end of the output\n",
    "    contents = pd.Series(texts)\n",
    "    sent_topics_df = pd.concat([sent_topics_df, contents], axis=1)\n",
    "    return(sent_topics_df)"
   ]
  },
  {
   "cell_type": "markdown",
   "metadata": {},
   "source": [
    "#### Table of dominant topics for each tweet/text"
   ]
  },
  {
   "cell_type": "code",
   "execution_count": 35,
   "metadata": {
    "colab": {
     "base_uri": "https://localhost:8080/",
     "height": 204
    },
    "executionInfo": {
     "elapsed": 32870,
     "status": "ok",
     "timestamp": 1636658403097,
     "user": {
      "displayName": "nasiem ayob",
      "photoUrl": "https://lh3.googleusercontent.com/a-/AOh14GhYsNLn4PyjrikyWulX3z0YxowYE_hrwXX7YWlg=s64",
      "userId": "17753770046204324955"
     },
     "user_tz": -120
    },
    "id": "bytgAML5cMja",
    "outputId": "98715fe9-6bea-44d8-8569-30e4383e045b",
    "scrolled": false
   },
   "outputs": [
    {
     "data": {
      "text/html": [
       "<div>\n",
       "<style scoped>\n",
       "    .dataframe tbody tr th:only-of-type {\n",
       "        vertical-align: middle;\n",
       "    }\n",
       "\n",
       "    .dataframe tbody tr th {\n",
       "        vertical-align: top;\n",
       "    }\n",
       "\n",
       "    .dataframe thead th {\n",
       "        text-align: right;\n",
       "    }\n",
       "</style>\n",
       "<table border=\"1\" class=\"dataframe\">\n",
       "  <thead>\n",
       "    <tr style=\"text-align: right;\">\n",
       "      <th></th>\n",
       "      <th>Document_No</th>\n",
       "      <th>Dominant_Topic</th>\n",
       "      <th>Topic_Perc_Contrib</th>\n",
       "      <th>Keywords</th>\n",
       "      <th>Text</th>\n",
       "    </tr>\n",
       "  </thead>\n",
       "  <tbody>\n",
       "    <tr>\n",
       "      <th>0</th>\n",
       "      <td>0</td>\n",
       "      <td>1.0</td>\n",
       "      <td>0.8311</td>\n",
       "      <td>get, people, https, know, got, back, going, li...</td>\n",
       "      <td>bizzlemahomie screaming</td>\n",
       "    </tr>\n",
       "    <tr>\n",
       "      <th>1</th>\n",
       "      <td>1</td>\n",
       "      <td>1.0</td>\n",
       "      <td>0.7000</td>\n",
       "      <td>get, people, https, know, got, back, going, li...</td>\n",
       "      <td>latest homes razed northern california wildfir...</td>\n",
       "    </tr>\n",
       "    <tr>\n",
       "      <th>2</th>\n",
       "      <td>2</td>\n",
       "      <td>1.0</td>\n",
       "      <td>0.8398</td>\n",
       "      <td>get, people, https, know, got, back, going, li...</td>\n",
       "      <td>small bag bottom wounded hero shakes senzu bea...</td>\n",
       "    </tr>\n",
       "    <tr>\n",
       "      <th>3</th>\n",
       "      <td>3</td>\n",
       "      <td>1.0</td>\n",
       "      <td>0.9277</td>\n",
       "      <td>get, people, https, know, got, back, going, li...</td>\n",
       "      <td>british bake great pretty hilarious moments mu...</td>\n",
       "    </tr>\n",
       "    <tr>\n",
       "      <th>4</th>\n",
       "      <td>4</td>\n",
       "      <td>1.0</td>\n",
       "      <td>0.8023</td>\n",
       "      <td>get, people, https, know, got, back, going, li...</td>\n",
       "      <td>rand paul debate strategy demolish bad ideas p...</td>\n",
       "    </tr>\n",
       "  </tbody>\n",
       "</table>\n",
       "</div>"
      ],
      "text/plain": [
       "   Document_No  Dominant_Topic  Topic_Perc_Contrib  \\\n",
       "0            0             1.0              0.8311   \n",
       "1            1             1.0              0.7000   \n",
       "2            2             1.0              0.8398   \n",
       "3            3             1.0              0.9277   \n",
       "4            4             1.0              0.8023   \n",
       "\n",
       "                                            Keywords  \\\n",
       "0  get, people, https, know, got, back, going, li...   \n",
       "1  get, people, https, know, got, back, going, li...   \n",
       "2  get, people, https, know, got, back, going, li...   \n",
       "3  get, people, https, know, got, back, going, li...   \n",
       "4  get, people, https, know, got, back, going, li...   \n",
       "\n",
       "                                                Text  \n",
       "0                            bizzlemahomie screaming  \n",
       "1  latest homes razed northern california wildfir...  \n",
       "2  small bag bottom wounded hero shakes senzu bea...  \n",
       "3  british bake great pretty hilarious moments mu...  \n",
       "4  rand paul debate strategy demolish bad ideas p...  "
      ]
     },
     "execution_count": 35,
     "metadata": {},
     "output_type": "execute_result"
    }
   ],
   "source": [
    "df_topic_sents_keywords = format_topics_sentences(ldamodel=lda_model, corpus=corpus, texts=data)\n",
    "\n",
    "# Format\n",
    "df_dominant_topic = df_topic_sents_keywords.reset_index()\n",
    "df_dominant_topic.columns = ['Document_No', 'Dominant_Topic', 'Topic_Perc_Contrib', 'Keywords', 'Text']\n",
    "\n",
    "# Show\n",
    "df_dominant_topic.head(5)"
   ]
  },
  {
   "cell_type": "markdown",
   "metadata": {},
   "source": [
    "#### Confusion matrx"
   ]
  },
  {
   "cell_type": "code",
   "execution_count": 36,
   "metadata": {
    "colab": {
     "base_uri": "https://localhost:8080/",
     "height": 359
    },
    "executionInfo": {
     "elapsed": 7,
     "status": "ok",
     "timestamp": 1636658782179,
     "user": {
      "displayName": "nasiem ayob",
      "photoUrl": "https://lh3.googleusercontent.com/a-/AOh14GhYsNLn4PyjrikyWulX3z0YxowYE_hrwXX7YWlg=s64",
      "userId": "17753770046204324955"
     },
     "user_tz": -120
    },
    "id": "61yYa_AhdiKa",
    "outputId": "415953e9-4839-4f3f-a7a7-3c3ac873998b"
   },
   "outputs": [
    {
     "data": {
      "image/png": "[encoded data removed]",
      "text/plain": [
       "<Figure size 432x432 with 2 Axes>"
      ]
     },
     "metadata": {
      "needs_background": "light"
     },
     "output_type": "display_data"
    }
   ],
   "source": [
    "from sklearn.metrics import confusion_matrix\n",
    "\n",
    "y_pred = pd.Series(df_dominant_topic['Dominant_Topic'].values.tolist(), name='Predicted')\n",
    "y_actu = pd.Series(y_test.values.tolist(), name='Actual')\n",
    "\n",
    "cm = metrics.confusion_matrix(y_test, y_pred)\n",
    "\n",
    "plt.figure(figsize=(6,6))\n",
    "sns.heatmap(cm, annot=True, fmt=\".3f\", linewidths=.5, square = True, cmap = 'Blues_r');\n",
    "plt.ylabel('Actual value');\n",
    "plt.xlabel('Predicted value');\n",
    "cm_title = 'Accuracy Score: {0}'.format(accuracy_score(y_test,y_pred))\n",
    "plt.title(cm_title, size = 15);"
   ]
  },
  {
   "cell_type": "code",
   "execution_count": null,
   "metadata": {},
   "outputs": [],
   "source": [
    "%%markdown\n",
    "# LSTM"
   ]
  },
  {
   "cell_type": "code",
   "execution_count": null,
   "metadata": {},
   "outputs": [],
   "source": [
    "df = pd.read_csv(\"data/train.csv\", index_col='id')\n",
    "df.head()"
   ]
  },
  {
   "cell_type": "code",
   "execution_count": null,
   "metadata": {},
   "outputs": [],
   "source": [
    "def replace_urls(text):\n",
    "    text = re.sub('http://\\S+|https://\\S+', ' <url> ', text)\n",
    "    return text\n",
    "\n",
    "def replace_numbers(text):\n",
    "    return re.sub(r'(\\d+)(?:,(\\d+))*',' <number> ',text)\n",
    "    \n",
    "\n",
    "def remove_non_standard_ascii(text):\n",
    "    return re.sub('[^ -~]', '', text)\n",
    "    \n",
    "def remove_special_chars(text):\n",
    "    return re.sub('[^a-zA-z0-9\\s#<>]','',text)\n",
    "\n",
    "def clean_text(text):\n",
    "    text = replace_urls(text)\n",
    "    text = text.replace(\"&amp;\",\"\")\n",
    "    text = replace_numbers(text)\n",
    "    text = re.sub(r\"([@])(\\w+)\", ' <user> ', text) # Replace mentions with dummy variable i.e. beginning with '@'\n",
    "    text = re.sub(\"#\", \" # \", text)\n",
    "    \n",
    "    text = re.sub(\"\\s\\s+\", \" \", text) # Sequences of 2 or more spaces will be reduced to 1\n",
    "    # Excessive Punctuation\n",
    "    text = re.sub(\"[?][?]+\", \"??\", text)\n",
    "    text = re.sub(\"[!][!]+\", \"!!\", text)\n",
    "    text = re.sub(\"[..][.]+\", \"...\", text)\n",
    "#     text = remove_special_chars(text)\n",
    "    \n",
    "    return remove_non_standard_ascii(text).lower()"
   ]
  },
  {
   "cell_type": "code",
   "execution_count": null,
   "metadata": {},
   "outputs": [],
   "source": [
    "clean_df = df.copy()\n",
    "clean_df['text'] = clean_df['text'].apply(clean_text)\n",
    "clean_df.shape"
   ]
  },
  {
   "cell_type": "code",
   "execution_count": null,
   "metadata": {},
   "outputs": [],
   "source": [
    "clean_df.drop([\"keyword\",\"location\"], axis = 1, inplace=True)\n",
    "clean_df.head()"
   ]
  },
  {
   "cell_type": "code",
   "execution_count": null,
   "metadata": {},
   "outputs": [],
   "source": [
    "for i in range(5):\n",
    "    print(clean_df['text'].iloc[i])"
   ]
  },
  {
   "cell_type": "code",
   "execution_count": null,
   "metadata": {},
   "outputs": [],
   "source": [
    "%%markdown\n",
    "SpaCy"
   ]
  },
  {
   "cell_type": "code",
   "execution_count": null,
   "metadata": {},
   "outputs": [],
   "source": [
    "small_df = clean_df.iloc[:100]\n",
    "small_df.shape"
   ]
  },
  {
   "cell_type": "code",
   "execution_count": null,
   "metadata": {},
   "outputs": [],
   "source": [
    "for i in range(3):\n",
    "    print(small_df[\"text\"].iloc[i])"
   ]
  },
  {
   "cell_type": "code",
   "execution_count": null,
   "metadata": {},
   "outputs": [],
   "source": [
    "# Create a Tokenizer with the default settings for English\n",
    "# including punctuation rules and exceptions\n",
    "nlp = English()\n",
    "tokenizer = nlp.tokenizer\n",
    "\n",
    "# Add special rules \n",
    "# Number Special Case\n",
    "num_special_case = [{ORTH: \"<number>\"}]\n",
    "nlp.tokenizer.add_special_case(\"<number>\", num_special_case)\n",
    "\n",
    "# Url Special Case\n",
    "url_special_case = [{ORTH: \"<url>\"}]\n",
    "nlp.tokenizer.add_special_case(\"<url>\", url_special_case)\n",
    "\n",
    "# User Special Case\n",
    "user_special_case = [{ORTH: \"<user>\"}]\n",
    "nlp.tokenizer.add_special_case(\"<user>\", user_special_case)\n",
    "\n",
    "# Check new tokenization\n",
    "print([w.text for w in nlp(\"<number> <url> <user>\")])"
   ]
  },
  {
   "cell_type": "code",
   "execution_count": null,
   "metadata": {},
   "outputs": [],
   "source": [
    "sentences = []\n",
    "for doc in tokenizer.pipe(clean_df['text'], batch_size=50):\n",
    "    sentences.append([str(tok) for tok in doc])\n",
    "\n",
    "sentences[:2]"
   ]
  },
  {
   "cell_type": "code",
   "execution_count": null,
   "metadata": {},
   "outputs": [],
   "source": [
    "%%markdown\n",
    "Create Corpus"
   ]
  },
  {
   "cell_type": "code",
   "execution_count": null,
   "metadata": {},
   "outputs": [],
   "source": [
    "corpus_word_index_freq = {\"[plac]\":(0,100), \"[unk]\":(1,100)}\n",
    "# corpus_word_index_freq = {}\n",
    "count = 2\n",
    "for sentence in sentences:\n",
    "    for word in sentence:\n",
    "#         print(word, corpus_word_index)\n",
    "        if word in corpus_word_index_freq:\n",
    "            corpus_word_index_freq[word] = (count, corpus_word_index_freq[word][1] + 1)\n",
    "        else:\n",
    "            corpus_word_index_freq[word] = (count,1)\n",
    "            count += 1\n",
    "            \n",
    "print(f\"Length = {len(corpus_word_index_freq)}\\n\")\n",
    "            \n",
    "for i, key in enumerate(corpus_word_index_freq):\n",
    "    if i > 5:\n",
    "        break\n",
    "    else:\n",
    "        print(f\"{key} - {corpus_word_index_freq[key]}\")"
   ]
  },
  {
   "cell_type": "code",
   "execution_count": null,
   "metadata": {},
   "outputs": [],
   "source": [
    "folder_path = \"glove.twitter/glove.twitter.27B/\"\n",
    "\n",
    "embedding_vec_len = 50 # Dimensions of word vectors\n",
    "glove_file_path = folder_path + \"glove.twitter.27B.50d.txt\" # 50 dimensional one\n",
    "\n",
    "#Name for word2vec file\n",
    "word2vec_file_path = glove_file_path+'.word2vec'\n",
    "\n",
    "#Convert Glove embeddings to Word2Vec embeddings\n",
    "glove2word2vec(glove_file_path, word2vec_file_path)\n",
    "\n",
    "glove_model = KeyedVectors.load_word2vec_format(word2vec_file_path, binary=False)"
   ]
  },
  {
   "cell_type": "code",
   "execution_count": null,
   "metadata": {},
   "outputs": [],
   "source": [
    "# corpus_word_index_freq\n",
    "def eval_corpus_val(corpus_val):\n",
    "    try:\n",
    "        x = glove_model[corpus_val]\n",
    "        return True\n",
    "    except:\n",
    "        # i.e. corpus_val is not in glove_model\n",
    "        return False"
   ]
  },
  {
   "cell_type": "code",
   "execution_count": null,
   "metadata": {},
   "outputs": [],
   "source": [
    "# min_word_freq = 1\n",
    "# tmp_list = list(filter(lambda x: True if corpus_word_index_freq[x][1] >= 3 else False, corpus_word_index_freq))\n",
    "tmp_list = list(filter(eval_corpus_val, corpus_word_index_freq))\n",
    "tmp_list.insert(0,\"[unk]\")\n",
    "tmp_list.insert(0,\"[plac]\")\n",
    "corpus_index_word = {k:v for (k,v) in enumerate(tmp_list)}\n",
    "corpus_word_index = {v:k for (k,v) in enumerate(tmp_list)}"
   ]
  },
  {
   "cell_type": "code",
   "execution_count": null,
   "metadata": {},
   "outputs": [],
   "source": [
    "num_words = len(corpus_index_word)\n",
    "num_words"
   ]
  },
  {
   "cell_type": "code",
   "execution_count": null,
   "metadata": {},
   "outputs": [],
   "source": [
    "corpus_index_word[3]"
   ]
  },
  {
   "cell_type": "code",
   "execution_count": null,
   "metadata": {},
   "outputs": [],
   "source": [
    "corpus_word_index['are']"
   ]
  },
  {
   "cell_type": "code",
   "execution_count": null,
   "metadata": {},
   "outputs": [],
   "source": [
    "def cust_text_to_seq(sentences):\n",
    "    seq = []\n",
    "    for sentence in sentences:\n",
    "        tmp_list = []\n",
    "        for word in sentence:\n",
    "            if word in corpus_word_index:\n",
    "                tmp_list.append(corpus_word_index[word])\n",
    "            else:\n",
    "                tmp_list.append(corpus_word_index[\"[unk]\"])\n",
    "        seq.append(tmp_list)\n",
    "    return seq\n",
    "\n",
    "# print(corpus_word_index[\"our\"])\n",
    "# cust_text_to_seq(sentences)"
   ]
  },
  {
   "cell_type": "code",
   "execution_count": null,
   "metadata": {},
   "outputs": [],
   "source": [
    "def tokenize_series(data):\n",
    "    sentences = []\n",
    "    for doc in tokenizer.pipe(data, batch_size=50):\n",
    "        tok_str_list = [str(tok) for tok in doc]\n",
    "        sentence = []\n",
    "        for tok_str in tok_str_list:\n",
    "            if tok_str in corpus_word_index:\n",
    "                sentence.append(corpus_word_index[tok_str])\n",
    "            else:\n",
    "                sentence.append(corpus_word_index[\"[unk]\"])\n",
    "        sentences.append(sentence)\n",
    "    return sentences"
   ]
  },
  {
   "cell_type": "code",
   "execution_count": null,
   "metadata": {},
   "outputs": [],
   "source": [
    "%%markdown\n",
    "Train-Test and Train-Validation Split"
   ]
  },
  {
   "cell_type": "code",
   "execution_count": null,
   "metadata": {},
   "outputs": [],
   "source": [
    "X_train, X_test, y_train, y_test = train_test_split(clean_df['text'], clean_df['target'], test_size=0.20) #, random_state=42)\n",
    "X_train, X_val, y_train, y_val = train_test_split(X_train, y_train, test_size=0.20) #, random_state=42)"
   ]
  },
  {
   "cell_type": "code",
   "execution_count": null,
   "metadata": {},
   "outputs": [],
   "source": [
    "tmp = tokenize_series(X_train)[:2][0]\n",
    "for x in tmp:\n",
    "    print(corpus_index_word[x], end=\" \")"
   ]
  },
  {
   "cell_type": "code",
   "execution_count": null,
   "metadata": {},
   "outputs": [],
   "source": [
    "X_train.iloc[0]"
   ]
  },
  {
   "cell_type": "code",
   "execution_count": null,
   "metadata": {},
   "outputs": [],
   "source": [
    "train_seq_unpad  = tokenize_series(X_train)\n",
    "valid_seq_unpad  = tokenize_series(X_val)\n",
    "test_seq_unpad  = tokenize_series(X_test)"
   ]
  },
  {
   "cell_type": "code",
   "execution_count": null,
   "metadata": {},
   "outputs": [],
   "source": [
    "max(len(x) for x in train_seq_unpad)"
   ]
  },
  {
   "cell_type": "code",
   "execution_count": null,
   "metadata": {},
   "outputs": [],
   "source": [
    "max_words = 45\n",
    "max_words"
   ]
  },
  {
   "cell_type": "code",
   "execution_count": null,
   "metadata": {},
   "outputs": [],
   "source": [
    "train_seq = sequence.pad_sequences(train_seq_unpad,maxlen=max_words,padding='post')\n",
    "valid_seq = sequence.pad_sequences(valid_seq_unpad,maxlen=max_words,padding='post')\n",
    "test_seq = sequence.pad_sequences(test_seq_unpad, maxlen=max_words, padding='post')"
   ]
  },
  {
   "cell_type": "code",
   "execution_count": null,
   "metadata": {},
   "outputs": [],
   "source": [
    "train_seq\n",
    "train_seq.shape"
   ]
  },
  {
   "cell_type": "code",
   "execution_count": null,
   "metadata": {},
   "outputs": [],
   "source": [
    "%%markdown\n",
    "GloVe Embedding"
   ]
  },
  {
   "cell_type": "code",
   "execution_count": null,
   "metadata": {},
   "outputs": [],
   "source": [
    "avg_arr = np.zeros(embedding_vec_len)\n",
    "for key in glove_model.vocab:\n",
    "    avg_arr = avg_arr + glove_model[key] \n",
    "#     print(avg_arr)\n",
    "#     print(key, glove_model[key])\n",
    "#     break\n",
    "avg_word_vec = avg_arr/len(glove_model.vocab)\n",
    "avg_word_vec"
   ]
  },
  {
   "cell_type": "code",
   "execution_count": null,
   "metadata": {},
   "outputs": [],
   "source": [
    "embedding_matrix = np.zeros((num_words, embedding_vec_len)) # num_words + 1 to account for unknown\n",
    "embedding_matrix.shape"
   ]
  },
  {
   "cell_type": "code",
   "execution_count": null,
   "metadata": {},
   "outputs": [],
   "source": [
    "for word in corpus_word_index:\n",
    "    ind = corpus_word_index[word]\n",
    "    try:\n",
    "        tmp = glove_model[word]\n",
    "        embedding_matrix[ind] = tmp\n",
    "    except:\n",
    "#         if ind != 0:\n",
    "#             embedding_matrix[ind] = avg_word_vec\n",
    "        pass\n",
    "embedding_matrix[1]"
   ]
  },
  {
   "cell_type": "code",
   "execution_count": null,
   "metadata": {},
   "outputs": [],
   "source": [
    "embedding_matrix.shape"
   ]
  },
  {
   "cell_type": "code",
   "execution_count": null,
   "metadata": {},
   "outputs": [],
   "source": [
    "len(corpus_index_word)"
   ]
  },
  {
   "cell_type": "code",
   "execution_count": null,
   "metadata": {},
   "outputs": [],
   "source": [
    "%%markdown\n",
    "# LSTM Neural Net"
   ]
  },
  {
   "cell_type": "code",
   "execution_count": null,
   "metadata": {},
   "outputs": [],
   "source": [
    "drop_rate = 0.2\n",
    "\n",
    "tf.keras.backend.clear_session()\n",
    "model = tf.keras.Sequential()\n",
    "\n",
    "# Embedding Layer\n",
    "model.add(tf.keras.layers.Embedding(embedding_matrix.shape[0], embedding_matrix.shape[1], \n",
    "                                    weights=[embedding_matrix],\n",
    "                                    trainable=False, \n",
    "                                    input_length=max_words)\n",
    "         )\n",
    "\n",
    "model.add(tf.keras.layers.Dropout(drop_rate))\n",
    "model.add(tf.keras.layers.LSTM(256))\n",
    "model.add(tf.keras.layers.Dropout(drop_rate))\n",
    "model.add(tf.keras.layers.Dense(1,activation='sigmoid'))\n",
    "\n",
    "model.save_weights(\"weights/lstm_init_weights.h5\")"
   ]
  },
  {
   "cell_type": "code",
   "execution_count": null,
   "metadata": {},
   "outputs": [],
   "source": [
    "model.summary()"
   ]
  },
  {
   "cell_type": "code",
   "execution_count": null,
   "metadata": {},
   "outputs": [],
   "source": [
    "%%markdown\n",
    "# Benchmarking\n",
    "## Train/Benchmark Function"
   ]
  },
  {
   "cell_type": "code",
   "execution_count": null,
   "metadata": {},
   "outputs": [],
   "source": [
    "def train_model(_model, X_train, y_train, X_val, y_val, epochs, valid_interval, model_files_prefix, metrics_file_prefix, save_models=True):\n",
    "    metric_csvs_folder = \"metrics_data/\"\n",
    "    \n",
    "    _model.load_weights(\"weights/lstm_init_weights.h5\")\n",
    "    history_dict = {}\n",
    "    metrics_dict = {}\n",
    "\n",
    "    for i in range(epochs):\n",
    "        print(f\"Epoch {i+1}/{epochs}\")\n",
    "        history_dict[i+1] = _model.fit(X_train, y_train, epochs=1, batch_size=32)\n",
    "        if ((i+1)%valid_interval==0):\n",
    "            if save_models:\n",
    "                print(f\"Saving model at 'models/{model_files_prefix}_lstm_{i+1}.h5'...\")\n",
    "                _model.save(f'models/{model_files_prefix}_lstm_{i+1}.h5')\n",
    "            print(f\"Eval on validation (epoch {i+1}):\")\n",
    "            valid_acc = _model.evaluate(X_val, y_val.to_numpy())\n",
    "            print()\n",
    "#             print(f\"Valid Accuracy: {valid_acc}\")\n",
    "            metrics_dict[i+1] = valid_acc\n",
    "            \n",
    "    # Validation Metrics\n",
    "    val_epochs = [epoch for epoch in metrics_dict]\n",
    "    val_losses = [metrics_dict[epoch][0] for epoch in val_epochs]\n",
    "    val_accs = [metrics_dict[epoch][1] for epoch in val_epochs]\n",
    "    val_df_dict = {\n",
    "        \"epoch\":val_epochs,\n",
    "        \"loss\":val_losses,\n",
    "        \"acc\":val_accs\n",
    "    }\n",
    "\n",
    "    val_df = pd.DataFrame.from_dict(val_df_dict)\n",
    "    val_df.to_csv(f\"{metric_csvs_folder}{metrics_file_prefix}_val_metrics.csv\", index=False)\n",
    "    \n",
    "    # Train Metrics\n",
    "    train_epochs = [epoch for epoch in history_dict]\n",
    "    train_losses = [history_dict[epoch].history[\"loss\"][0] for epoch in train_epochs]\n",
    "    train_accs = [history_dict[epoch].history[\"accuracy\"][0] for epoch in train_epochs]\n",
    "\n",
    "    train_df_dict = {\n",
    "        \"epoch\":train_epochs,\n",
    "        \"loss\":train_losses,\n",
    "        \"acc\":train_accs\n",
    "    }\n",
    "\n",
    "    \n",
    "    train_df = pd.DataFrame.from_dict(train_df_dict)\n",
    "    train_df.to_csv(f\"{metric_csvs_folder}{metrics_file_prefix}_train_metrics.csv\", index=False)\n",
    "    \n",
    "    print(\"---------------------------\\nFinished Training!!!\")\n",
    "    \n",
    "    return _model"
   ]
  },
  {
   "cell_type": "code",
   "execution_count": null,
   "metadata": {},
   "outputs": [],
   "source": [
    "%%markdown\n",
    "## Different Optimizers & Losses\n",
    "**Losses:**\n",
    "1. [Binary Cross-Entropy](https://www.tensorflow.org/api_docs/python/tf/keras/losses/BinaryCrossentropy)\n",
    "2. [Mean Squared Error](https://www.tensorflow.org/api_docs/python/tf/keras/losses/MeanSquaredError)\n",
    "3. [Mean Absolute Error](https://www.tensorflow.org/api_docs/python/tf/keras/losses/MeanAbsoluteError)\n",
    "**Optimizers:**\n",
    "1. [ADAM](https://www.tensorflow.org/api_docs/python/tf/keras/optimizers/Adam)\n",
    "2. [SGD](https://www.tensorflow.org/api_docs/python/tf/keras/optimizers/SGD)"
   ]
  },
  {
   "cell_type": "code",
   "execution_count": null,
   "metadata": {},
   "outputs": [],
   "source": [
    "%%markdown\n",
    "### Adam & Binary Crossentropy\n",
    "Metrics:\n",
    "1. train: `adam_bin_ce_train_metrics.csv`\n",
    "2. valid: `adam_bin_ce_valid_metrics.csv`"
   ]
  },
  {
   "cell_type": "code",
   "execution_count": null,
   "metadata": {},
   "outputs": [],
   "source": [
    "model.compile(optimizer='adam',loss='binary_crossentropy',metrics=['accuracy'])\n",
    "model = train_model(model, train_seq, y_train, valid_seq, y_val, 20, 5, \"adam_bin_ce\", \"adam_bin_ce\")\n",
    "print(\"\\nTesting:\")\n",
    "model.evaluate(test_seq, y_test.to_numpy())"
   ]
  },
  {
   "cell_type": "code",
   "execution_count": null,
   "metadata": {},
   "outputs": [],
   "source": [
    "%%markdown\n",
    "### Adam & Mean Squared Error\n",
    "Metrics:\n",
    "1. train: `adam_mse_train_metrics.csv`\n",
    "2. valid: `adam_mse_valid_metrics.csv`"
   ]
  },
  {
   "cell_type": "code",
   "execution_count": null,
   "metadata": {},
   "outputs": [],
   "source": [
    "model.compile(optimizer='adam',loss='MeanSquaredError',metrics=['accuracy'])\n",
    "model = train_model(model, train_seq, y_train, valid_seq, y_val, 20, 5, \"adam_mse\", \"adam_mse\")\n",
    "print(\"\\nTesting:\")\n",
    "model.evaluate(test_seq, y_test.to_numpy())"
   ]
  },
  {
   "cell_type": "code",
   "execution_count": null,
   "metadata": {},
   "outputs": [],
   "source": [
    "%%markdown\n",
    "### Adam & Poisson\n",
    "Metrics:\n",
    "1. train: `adam_poisson_train_metrics.csv`\n",
    "2. valid: `adam_poisson_valid_metrics.csv`"
   ]
  },
  {
   "cell_type": "code",
   "execution_count": null,
   "metadata": {},
   "outputs": [],
   "source": [
    "model.compile(optimizer='adam',loss='poisson',metrics=['accuracy'])\n",
    "model = train_model(model, train_seq, y_train, valid_seq, y_val, 20, 5, \"adam_poisson\", \"adam_poisson\")\n",
    "print(\"\\nTesting:\")\n",
    "model.evaluate(test_seq, y_test.to_numpy())"
   ]
  },
  {
   "cell_type": "code",
   "execution_count": null,
   "metadata": {},
   "outputs": [],
   "source": [
    "%%markdown\n",
    "### Adam & Mean Absolute Error\n",
    "Metrics:\n",
    "1. train: `adam_mae_train_metrics.csv`\n",
    "2. valid: `adam_mae_valid_metrics.csv`"
   ]
  },
  {
   "cell_type": "code",
   "execution_count": null,
   "metadata": {},
   "outputs": [],
   "source": [
    "model.compile(optimizer='adam',loss='MeanAbsoluteError',metrics=['accuracy'])\n",
    "model = train_model(model, train_seq, y_train, valid_seq, y_val, 20, 5, \"adam_mae\", \"adam_mae\")\n",
    "print(\"\\nTesting:\")\n",
    "model.evaluate(test_seq, y_test.to_numpy())"
   ]
  },
  {
   "cell_type": "code",
   "execution_count": null,
   "metadata": {},
   "outputs": [],
   "source": [
    "%%markdown\n",
    "### SGD & Binary Crossentropy\n",
    "Metrics:\n",
    "1. train: `sgd_bin_ce_train_metrics.csv`\n",
    "2. valid: `sgd_bin_ce_valid_metrics.csv`"
   ]
  },
  {
   "cell_type": "code",
   "execution_count": null,
   "metadata": {},
   "outputs": [],
   "source": [
    "model.compile(optimizer='SGD',loss='binary_crossentropy',metrics=['accuracy'])\n",
    "model = train_model(model, train_seq, y_train, valid_seq, y_val, 30, 5, \"sgd_bin_ce\", \"sgd_bin_ce\")\n",
    "print(\"\\nTesting:\")\n",
    "model.evaluate(test_seq, y_test.to_numpy())"
   ]
  },
  {
   "cell_type": "code",
   "execution_count": null,
   "metadata": {},
   "outputs": [],
   "source": [
    "%%markdown\n",
    "### SGD & Mean Squared Error\n",
    "Metrics:\n",
    "1. train: `sgd_mse_train_metrics.csv`\n",
    "2. valid: `sgd_mse_valid_metrics.csv`"
   ]
  },
  {
   "cell_type": "code",
   "execution_count": null,
   "metadata": {},
   "outputs": [],
   "source": [
    "model.compile(optimizer='SGD',loss='MeanSquaredError',metrics=['accuracy'])\n",
    "model = train_model(model, train_seq, y_train, valid_seq, y_val, 20, 5, \"sgd_mse\", \"sgd_mse\")\n",
    "print(\"\\nTesting:\")\n",
    "model.evaluate(test_seq, y_test.to_numpy())"
   ]
  },
  {
   "cell_type": "code",
   "execution_count": null,
   "metadata": {},
   "outputs": [],
   "source": [
    "%%markdown\n",
    "### Conclusion\n",
    "Adam & Poisson seem to do the best\n",
    "## Differing Word Vector Size\n",
    "1. size = 25\n",
    "2. size = 50\n",
    "3. size = 100\n",
    "4. size = 200"
   ]
  },
  {
   "cell_type": "code",
   "execution_count": null,
   "metadata": {},
   "outputs": [],
   "source": [
    "folder_path = \"glove.twitter/glove.twitter.27B/\"\n",
    "\n",
    "embedding_vec_len_list = [25,50,100,200]\n",
    "word2vec_file_path_list = []\n",
    "\n",
    "# os.path.isfile(path)\n",
    "\n",
    "# create .word2vec files if required\n",
    "for embedding_vec_len in embedding_vec_len_list:\n",
    "    glove_file_path = folder_path + f\"glove.twitter.27B.{embedding_vec_len}d.txt\"\n",
    "    word2vec_file_path = glove_file_path+'.word2vec'\n",
    "    word2vec_file_path_list.append(word2vec_file_path)\n",
    "    if not os.path.isfile(word2vec_file_path):\n",
    "        glove2word2vec(glove_file_path, word2vec_file_path)\n",
    "        \n",
    "word2vec_file_path_list"
   ]
  },
  {
   "cell_type": "code",
   "execution_count": null,
   "metadata": {},
   "outputs": [],
   "source": [
    "embedding_matrix_dict = {}\n",
    "\n",
    "for embedding_vec_len, word2vec_file_path in zip(embedding_vec_len_list, word2vec_file_path_list):\n",
    "    print(f\"Creating embedding matrix for embedding_vec_len = {embedding_vec_len}...\")\n",
    "    glove_model = KeyedVectors.load_word2vec_format(word2vec_file_path, binary=False) #, no_header=True)\n",
    "    embedding_matrix = np.zeros((num_words + 1, embedding_vec_len)) # num_words + 1 to account for unknown\n",
    "\n",
    "    \n",
    "    avg_arr = np.zeros(embedding_vec_len)\n",
    "    for key in glove_model.vocab:\n",
    "        avg_arr = avg_arr + glove_model[key] \n",
    "\n",
    "    avg_word_vec = avg_arr/len(glove_model.vocab)\n",
    "    \n",
    "    for word in corpus_word_index:\n",
    "        ind = corpus_word_index[word]\n",
    "        try:\n",
    "            tmp = glove_model[word]\n",
    "            embedding_matrix[ind] = tmp\n",
    "        except:\n",
    "            pass\n",
    "\n",
    "            \n",
    "    embedding_matrix_dict[embedding_vec_len] = embedding_matrix\n",
    "    \n",
    "print(\"All embedding matrices created!\")"
   ]
  },
  {
   "cell_type": "code",
   "execution_count": null,
   "metadata": {},
   "outputs": [],
   "source": [
    "embedding_matrix_dict"
   ]
  },
  {
   "cell_type": "code",
   "execution_count": null,
   "metadata": {},
   "outputs": [],
   "source": [
    "for embedding_vec_len in embedding_matrix_dict:\n",
    "#     print(embedding_vec_len)\n",
    "#     print(embedding_matrix_dict[embedding_vec_len])    \n",
    "    embedding_matrix = embedding_matrix_dict[embedding_vec_len]\n",
    "    \n",
    "    drop_rate = 0.2\n",
    "\n",
    "    tf.keras.backend.clear_session()\n",
    "    model = tf.keras.Sequential()\n",
    "\n",
    "    # Embedding Layer\n",
    "    model.add(tf.keras.layers.Embedding(embedding_matrix.shape[0], embedding_matrix.shape[1], \n",
    "                                        weights=[embedding_matrix],\n",
    "                                        trainable=False, \n",
    "                                        input_length=max_words)\n",
    "             )\n",
    "\n",
    "    model.add(tf.keras.layers.Dropout(drop_rate))\n",
    "    model.add(tf.keras.layers.LSTM(256))\n",
    "    model.add(tf.keras.layers.Dropout(drop_rate))\n",
    "    model.add(tf.keras.layers.Dense(1,activation='sigmoid'))\n",
    "\n",
    "    model.save_weights(\"weights/lstm_init_weights.h5\")\n",
    "    \n",
    "    print(f\"\\n#################################\")\n",
    "    print(f\"#   EMBEDDING VECTOR LENGTH     #\")\n",
    "    print(f\"#           {embedding_vec_len:3}                 #\")\n",
    "    print(f\"#################################\")\n",
    "    print(model.summary())\n",
    "    print(\"\\n###\\n\")\n",
    "    \n",
    "    model.compile(optimizer='adam',loss='poisson',metrics=['accuracy'])\n",
    "    model = train_model(model, train_seq, y_train, valid_seq, y_val, 20, 5, f\"vec_len_{embedding_vec_len}\", f\"vec_len_{embedding_vec_len}\")\n",
    "    print(\"\\nTESTING:\")\n",
    "    model.evaluate(test_seq, y_test.to_numpy())"
   ]
  },
  {
   "cell_type": "code",
   "execution_count": null,
   "metadata": {},
   "outputs": [],
   "source": [
    "%%markdown\n",
    "## Different LSTM Layer Size"
   ]
  },
  {
   "cell_type": "code",
   "execution_count": null,
   "metadata": {},
   "outputs": [],
   "source": [
    "lstm_layer_size_list = [128,256,512]\n",
    "evals = {}\n",
    "for lstm_layer_size in lstm_layer_size_list:\n",
    "#     print(embedding_vec_len)\n",
    "#     print(embedding_matrix_dict[embedding_vec_len])    \n",
    "    embedding_matrix = embedding_matrix_dict[100]\n",
    "    \n",
    "    drop_rate = 0.2\n",
    "\n",
    "    tf.keras.backend.clear_session()\n",
    "    model = tf.keras.Sequential()\n",
    "\n",
    "    # Embedding Layer\n",
    "    model.add(tf.keras.layers.Embedding(embedding_matrix.shape[0], embedding_matrix.shape[1], \n",
    "                                        weights=[embedding_matrix],\n",
    "                                        trainable=False, \n",
    "                                        input_length=max_words)\n",
    "             )\n",
    "\n",
    "    model.add(tf.keras.layers.Dropout(drop_rate))\n",
    "    model.add(tf.keras.layers.LSTM(lstm_layer_size))\n",
    "    model.add(tf.keras.layers.Dropout(drop_rate))\n",
    "    model.add(tf.keras.layers.Dense(1,activation='sigmoid'))\n",
    "\n",
    "    model.save_weights(\"weights/lstm_init_weights.h5\")\n",
    "    \n",
    "    print(f\"\\n#################################\")\n",
    "    print(f\"#       LSTM LAYER SIZE         #\")\n",
    "    print(f\"#           {lstm_layer_size:3}                 #\")\n",
    "    print(f\"#################################\")\n",
    "    print(model.summary())\n",
    "    print(\"\\n###\\n\")\n",
    "    \n",
    "    model.compile(optimizer='adam',loss='poisson',metrics=['accuracy'])\n",
    "    model = train_model(model, train_seq, y_train, valid_seq, y_val, 20, 5, f\"lstm_layer_size_{lstm_layer_size}\", f\"lstm_layer_size_{lstm_layer_size}\")\n",
    "    \n",
    "    print(\"\\nTESTING:\")\n",
    "    final_eval = model.evaluate(test_seq, y_test.to_numpy())\n",
    "    evals[lstm_layer_size] = final_eval\n",
    "    \n",
    "print(\"\\n###########\")\n",
    "print(\"# SUMMARY #\")\n",
    "print(\"###########\")\n",
    "for lstm_layer_size in evals:\n",
    "    print(f\"Drop Rate: {lstm_layer_size} => Test Loss: {round(evals[lstm_layer_size][0], 3)}. Test Accuracy: {round(evals[lstm_layer_size][1], 3)}\")"
   ]
  },
  {
   "cell_type": "code",
   "execution_count": null,
   "metadata": {},
   "outputs": [],
   "source": [
    "%%markdown\n",
    "## Different Dropout Values "
   ]
  },
  {
   "cell_type": "code",
   "execution_count": null,
   "metadata": {},
   "outputs": [],
   "source": [
    "drop_rate_list = [0, 0.1, 0.2, 0.3] # 0 signifies no dropout\n",
    "evals = {}\n",
    "for drop_rate in drop_rate_list:\n",
    "#     print(embedding_vec_len)\n",
    "#     print(embedding_matrix_dict[embedding_vec_len])    \n",
    "    embedding_matrix = embedding_matrix_dict[50]\n",
    "\n",
    "    tf.keras.backend.clear_session()\n",
    "    model = tf.keras.Sequential()\n",
    "\n",
    "    # Embedding Layer\n",
    "    model.add(tf.keras.layers.Embedding(embedding_matrix.shape[0], embedding_matrix.shape[1], \n",
    "                                        weights=[embedding_matrix],\n",
    "                                        trainable=False, \n",
    "                                        input_length=max_words)\n",
    "             )\n",
    "\n",
    "    model.add(tf.keras.layers.Dropout(drop_rate))\n",
    "    model.add(tf.keras.layers.LSTM(256))\n",
    "    model.add(tf.keras.layers.Dropout(drop_rate))\n",
    "    model.add(tf.keras.layers.Dense(1,activation='sigmoid'))\n",
    "\n",
    "    model.save_weights(\"weights/lstm_init_weights.h5\")\n",
    "    \n",
    "    print(\"\")\n",
    "    print(f\"#################################\")\n",
    "    print(f\"#         DROP RATE             #\")\n",
    "    print(f\"#            {drop_rate:3}                #\")\n",
    "    print(f\"#################################\")\n",
    "    print(model.summary())\n",
    "    print(\"\\nTraining...\\n\")\n",
    "    \n",
    "    model.compile(optimizer='adam',loss='poisson',metrics=['accuracy'])\n",
    "    model = train_model(model, train_seq, y_train, valid_seq, y_val, 20, 5, f\"drop_rate_{drop_rate}\", f\"drop_rate_{drop_rate}\")\n",
    "    print(\"\\nTESTING:\")\n",
    "    final_eval = model.evaluate(test_seq, y_test.to_numpy())\n",
    "    evals[drop_rate] = final_eval\n",
    "    \n",
    "print(\"\\n###########\")\n",
    "print(\"# SUMMARY #\")\n",
    "print(\"###########\")\n",
    "for drop_rate in evals:\n",
    "    print(f\"Drop Rate: {drop_rate} => Test Loss: {round(evals[drop_rate][0], 3)}. Test Accuracy: {round(evals[drop_rate][1], 3)}\")"
   ]
  },
  {
   "cell_type": "code",
   "execution_count": null,
   "metadata": {},
   "outputs": [],
   "source": [
    "pd.read_csv(\"metrics_data/adam_bin_ce_train_metrics.csv\")"
   ]
  },
  {
   "cell_type": "code",
   "execution_count": null,
   "metadata": {},
   "outputs": [],
   "source": [
    "%%markdown\n",
    "## Evaluate Saved Models\n",
    "### Evaluate On Test Data"
   ]
  },
  {
   "cell_type": "code",
   "execution_count": null,
   "metadata": {},
   "outputs": [],
   "source": [
    "model_names = list(filter(lambda x: False if x==\".gitignore\" else True, os.listdir(\"models\")))\n",
    "evals_dict = {}\n",
    "\n",
    "for i, model_name in enumerate(model_names):\n",
    "    print(f\"[{i+1}/{len(model_names)}] Evaluating {model_name}...\")\n",
    "    curr_model = load_model(f\"models/{model_name}\")\n",
    "    evals_dict[model_name] = curr_model.evaluate(valid_seq, y_val.to_numpy())"
   ]
  },
  {
   "cell_type": "code",
   "execution_count": null,
   "metadata": {},
   "outputs": [],
   "source": [
    "acc_sorted_keys = sorted(evals_dict, key = lambda x: evals_dict[x][1], reverse=True)\n",
    "acc_sorted_tups = [(key, evals_dict[key][1]) for key in acc_sorted_keys]\n",
    "print(acc_sorted_tups)\n",
    "\n",
    "\n",
    "test_df = pd.DataFrame.from_dict(acc_sorted_tups)\n",
    "test_df.to_csv(f\"Test_ACC/data_test_metrics.csv\", index=False)"
   ]
  },
  {
   "cell_type": "code",
   "execution_count": null,
   "metadata": {},
   "outputs": [],
   "source": [
    "model = load_model(f\"models/lstm_layer_size_128_lstm_10.h5\")\n",
    "y_pred = model.predict(valid_seq)\n",
    "# print(valid_seq.shape, y_val.to_numpy().shape)\n",
    "print(y_pred)\n",
    "print(y_val.to_numpy())"
   ]
  },
  {
   "cell_type": "code",
   "execution_count": null,
   "metadata": {},
   "outputs": [],
   "source": [
    "\n",
    "def func(x):\n",
    "    if x < 0.5:\n",
    "        return 0\n",
    "    else:\n",
    "        return 1\n",
    "\n",
    "y_pred = np.array(list(map(func, y_pred)))\n",
    "y_pred"
   ]
  },
  {
   "cell_type": "code",
   "execution_count": null,
   "metadata": {},
   "outputs": [],
   "source": [
    "cm = metrics.confusion_matrix(y_val.to_numpy(), y_pred)\n",
    "\n",
    "plt.figure(figsize=(6,6))\n",
    "sns.heatmap(cm, annot=True, fmt=\".3f\", linewidths=.5, square = True, cmap = 'Blues_r');\n",
    "plt.ylabel('Actual value');\n",
    "plt.xlabel('Predicted value');\n",
    "cm_title = 'Accuracy Score: {0}'.format(accuracy_score(y_val.to_numpy(),y_pred))\n",
    "plt.title(cm_title, size = 15);\n",
    "plt.savefig(\"LSTM.png\")\n",
    "plt.show()\n"
   ]
  },
  {
   "cell_type": "code",
   "execution_count": null,
   "metadata": {},
   "outputs": [],
   "source": []
  }
 ],
 "metadata": {
  "colab": {
   "collapsed_sections": [],
   "name": "Tweet_Classification3.0.ipynb",
   "provenance": []
  },
  "kernelspec": {
   "display_name": "Python 3 (ipykernel)",
   "language": "python",
   "name": "python3"
  },
  "language_info": {
   "codemirror_mode": {
    "name": "ipython",
    "version": 3
   },
   "file_extension": ".py",
   "mimetype": "text/x-python",
   "name": "python",
   "nbconvert_exporter": "python",
   "pygments_lexer": "ipython3",
   "version": "3.8.10"
  }
 },
 "nbformat": 4,
 "nbformat_minor": 4
}
